{
 "cells": [
  {
   "cell_type": "code",
   "execution_count": 1,
   "metadata": {},
   "outputs": [
    {
     "name": "stderr",
     "output_type": "stream",
     "text": [
      "/usr/local/lib/python3.10/dist-packages/tqdm/auto.py:21: TqdmWarning: IProgress not found. Please update jupyter and ipywidgets. See https://ipywidgets.readthedocs.io/en/stable/user_install.html\n",
      "  from .autonotebook import tqdm as notebook_tqdm\n"
     ]
    }
   ],
   "source": [
    "import os\n",
    "from torch import optim, nn, utils, Tensor\n",
    "from torchvision.datasets import MNIST\n",
    "from torchvision.transforms import ToTensor\n",
    "import lightning as L\n",
    "import torch\n",
    "\n",
    "# define any number of nn.Modules (or use your current ones)\n",
    "encoder = nn.Sequential(nn.Linear(28 * 28, 64), nn.ReLU(), nn.Linear(64, 3))\n",
    "decoder = nn.Sequential(nn.Linear(3, 64), nn.ReLU(), nn.Linear(64, 28 * 28))\n",
    "\n",
    "\n",
    "# define the LightningModule\n",
    "class LitAutoEncoder(L.LightningModule):\n",
    "    def __init__(self, encoder, decoder, lr=1e-3):\n",
    "        super().__init__()\n",
    "        self.encoder = encoder\n",
    "        self.decoder = decoder\n",
    "        self.lr = lr\n",
    "\n",
    "    def training_step(self, batch, batch_idx):\n",
    "        # training_step defines the train loop.\n",
    "        # it is independent of forward\n",
    "        x, y = batch\n",
    "        x = x.view(x.size(0), -1)\n",
    "        z = self.encoder(x)\n",
    "        x_hat = self.decoder(z)\n",
    "        loss = nn.functional.mse_loss(x_hat, x)\n",
    "        # Logging to TensorBoard (if installed) by default\n",
    "        self.log(\n",
    "            \"train_loss\", loss, on_step=False, on_epoch=True, prog_bar=True, logger=True\n",
    "        )\n",
    "        return loss\n",
    "\n",
    "    def validation_step(self, batch, batch_idx):\n",
    "        x, y = batch\n",
    "        x = x.view(x.size(0), -1)\n",
    "        z = self.encoder(x)\n",
    "        x_hat = self.decoder(z)\n",
    "        loss = nn.functional.mse_loss(x_hat, x)\n",
    "        self.log(\n",
    "            \"val_loss\", loss, on_step=False, on_epoch=True, prog_bar=True, logger=True\n",
    "        )\n",
    "        return loss\n",
    "\n",
    "    def configure_optimizers(self):\n",
    "        optimizer = optim.Adam(self.parameters(), lr=self.lr)\n",
    "        return optimizer\n",
    "\n",
    "\n",
    "# init the autoencoder\n",
    "autoencoder = LitAutoEncoder(encoder, decoder)"
   ]
  },
  {
   "cell_type": "code",
   "execution_count": 2,
   "metadata": {},
   "outputs": [
    {
     "name": "stdout",
     "output_type": "stream",
     "text": [
      "2048\n"
     ]
    }
   ],
   "source": [
    "# setup data\n",
    "\n",
    "\n",
    "from lightning import LightningDataModule\n",
    "from torch.utils.data import DataLoader\n",
    "\n",
    "\n",
    "train_dataset = MNIST(os.getcwd(), train=True, download=True, transform=ToTensor())\n",
    "val_dataset = MNIST(os.getcwd(), train=False, download=True, transform=ToTensor())\n",
    "\n",
    "\n",
    "class LitDataModule(LightningDataModule):\n",
    "    def __init__(self, batch_size):\n",
    "        super().__init__()\n",
    "        self.batch_size = batch_size\n",
    "\n",
    "    def train_dataloader(self):\n",
    "        return DataLoader(\n",
    "            train_dataset,\n",
    "            batch_size=self.batch_size,\n",
    "            persistent_workers=True,\n",
    "            num_workers=16,\n",
    "            pin_memory=True,\n",
    "            shuffle=True,\n",
    "        )\n",
    "\n",
    "    def val_dataloader(self):\n",
    "        return DataLoader(\n",
    "            val_dataset,\n",
    "            batch_size=self.batch_size,\n",
    "            persistent_workers=True,\n",
    "            num_workers=16,\n",
    "            pin_memory=True,\n",
    "            shuffle=False,\n",
    "        )\n",
    "\n",
    "\n",
    "datamodule = LitDataModule(batch_size=2048)\n",
    "print(datamodule.batch_size)"
   ]
  },
  {
   "cell_type": "code",
   "execution_count": 7,
   "metadata": {},
   "outputs": [
    {
     "name": "stderr",
     "output_type": "stream",
     "text": [
      "GPU available: True (cuda), used: True\n",
      "TPU available: False, using: 0 TPU cores\n",
      "IPU available: False, using: 0 IPUs\n",
      "HPU available: False, using: 0 HPUs\n"
     ]
    }
   ],
   "source": [
    "from lightning.pytorch.tuner import Tuner\n",
    "from lightning.pytorch.callbacks import StochasticWeightAveraging\n",
    "from pytorch_lightning.loggers import TensorBoardLogger\n",
    "\n",
    "# train the model (hint: here are some helpful Trainer arguments for rapid idea iteration)\n",
    "tb_logger = TensorBoardLogger(\"./logs\", \"VAE\", version=\"b2048-lr0.005-swa-le-2\")\n",
    "trainer = L.Trainer(\n",
    "    # limit_train_batches=100,\n",
    "    max_epochs=100,\n",
    "    callbacks=[StochasticWeightAveraging(swa_lrs=1e-2)],\n",
    "    logger=tb_logger,\n",
    "    profiler=\"simple\",\n",
    ")\n",
    "\n",
    "tuner = Tuner(trainer)\n",
    "# tuner.scale_batch_size(autoencoder, datamodule, mode=\"power\")"
   ]
  },
  {
   "cell_type": "code",
   "execution_count": 8,
   "metadata": {},
   "outputs": [
    {
     "name": "stdout",
     "output_type": "stream",
     "text": [
      "0.005754399373371567\n"
     ]
    }
   ],
   "source": [
    "# lr_finder = tuner.lr_find(autoencoder, datamodule)\n",
    "# assert lr_finder is not None, \"No learning rate finder found\"\n",
    "# fig = lr_finder.plot(suggest=True)\n",
    "# assert fig is not None, \"No plot returned\"\n",
    "# fig.show()\n",
    "\n",
    "# # Pick point based on plot, or get suggestion\n",
    "# new_lr = lr_finder.suggestion()\n",
    "new_lr = 0.005754399373371567\n",
    "\n",
    "\n",
    "autoencoder.lr = new_lr  # type: ignore\n",
    "print(new_lr)"
   ]
  },
  {
   "cell_type": "code",
   "execution_count": 9,
   "metadata": {},
   "outputs": [
    {
     "name": "stderr",
     "output_type": "stream",
     "text": [
      "LOCAL_RANK: 0 - CUDA_VISIBLE_DEVICES: [0]\n",
      "\n",
      "  | Name    | Type       | Params\n",
      "---------------------------------------\n",
      "0 | encoder | Sequential | 50.4 K\n",
      "1 | decoder | Sequential | 51.2 K\n",
      "---------------------------------------\n",
      "101 K     Trainable params\n",
      "0         Non-trainable params\n",
      "101 K     Total params\n",
      "0.407     Total estimated model params size (MB)\n"
     ]
    },
    {
     "name": "stdout",
     "output_type": "stream",
     "text": [
      "Epoch 99: 100%|██████████| 30/30 [00:00<00:00, 39.46it/s, v_num=le-2, val_loss=0.0372, train_loss=0.0366]"
     ]
    },
    {
     "name": "stderr",
     "output_type": "stream",
     "text": [
      "`Trainer.fit` stopped: `max_epochs=100` reached.\n"
     ]
    },
    {
     "name": "stdout",
     "output_type": "stream",
     "text": [
      "Epoch 99: 100%|██████████| 30/30 [00:00<00:00, 37.89it/s, v_num=le-2, val_loss=0.0372, train_loss=0.0366]\n"
     ]
    },
    {
     "name": "stderr",
     "output_type": "stream",
     "text": [
      "FIT Profiler Report\n",
      "\n",
      "--------------------------------------------------------------------------------------------------------------------------------------------------------------------------------------------------------------------------------------------------------------------------\n",
      "|  Action                                                                                                                                                         \t|  Mean duration (s)\t|  Num calls      \t|  Total time (s) \t|  Percentage %   \t|\n",
      "--------------------------------------------------------------------------------------------------------------------------------------------------------------------------------------------------------------------------------------------------------------------------\n",
      "|  Total                                                                                                                                                          \t|  -              \t|  138224         \t|  84.863         \t|  100 %          \t|\n",
      "--------------------------------------------------------------------------------------------------------------------------------------------------------------------------------------------------------------------------------------------------------------------------\n",
      "|  run_training_epoch                                                                                                                                             \t|  0.78413        \t|  100            \t|  78.413         \t|  92.4           \t|\n",
      "|  [_TrainingEpochLoop].train_dataloader_next                                                                                                                     \t|  0.010149       \t|  3000           \t|  30.446         \t|  35.877         \t|\n",
      "|  [_EvaluationLoop].val_next                                                                                                                                     \t|  0.031903       \t|  502            \t|  16.015         \t|  18.872         \t|\n",
      "|  run_training_batch                                                                                                                                             \t|  0.0043958      \t|  3000           \t|  13.188         \t|  15.54          \t|\n",
      "|  [LightningModule]LitAutoEncoder.optimizer_step                                                                                                                 \t|  0.0042997      \t|  3000           \t|  12.899         \t|  15.2           \t|\n",
      "|  [Callback]TQDMProgressBar.on_train_batch_end                                                                                                                   \t|  0.0023119      \t|  3000           \t|  6.9357         \t|  8.1728         \t|\n",
      "|  [Strategy]SingleDeviceStrategy.training_step                                                                                                                   \t|  0.0014011      \t|  3000           \t|  4.2034         \t|  4.9532         \t|\n",
      "|  [Strategy]SingleDeviceStrategy.backward                                                                                                                        \t|  0.0013631      \t|  3000           \t|  4.0893         \t|  4.8188         \t|\n",
      "|  [Callback]ModelCheckpoint{'monitor': None, 'mode': 'min', 'every_n_train_steps': 0, 'every_n_epochs': 1, 'train_time_interval': None}.on_train_epoch_end       \t|  0.025861       \t|  100            \t|  2.5861         \t|  3.0474         \t|\n",
      "|  [Strategy]SingleDeviceStrategy.batch_to_device                                                                                                                 \t|  0.00053012     \t|  3502           \t|  1.8565         \t|  2.1876         \t|\n",
      "|  [LightningModule]LitAutoEncoder.transfer_batch_to_device                                                                                                       \t|  0.0004599      \t|  3502           \t|  1.6106         \t|  1.8979         \t|\n",
      "|  [Callback]TQDMProgressBar.on_validation_batch_end                                                                                                              \t|  0.0023772      \t|  502            \t|  1.1934         \t|  1.4062         \t|\n",
      "|  [LightningModule]LitAutoEncoder.optimizer_zero_grad                                                                                                            \t|  0.00028257     \t|  3000           \t|  0.84772        \t|  0.99893        \t|\n",
      "|  [Strategy]SingleDeviceStrategy.validation_step                                                                                                                 \t|  0.0015141      \t|  502            \t|  0.7601         \t|  0.89568        \t|\n",
      "|  [Callback]TQDMProgressBar.on_validation_batch_start                                                                                                            \t|  0.0011389      \t|  502            \t|  0.57172        \t|  0.6737         \t|\n",
      "|  [Callback]TQDMProgressBar.on_validation_start                                                                                                                  \t|  0.0042923      \t|  101            \t|  0.43353        \t|  0.51085        \t|\n",
      "|  [Callback]TQDMProgressBar.on_validation_end                                                                                                                    \t|  0.0037813      \t|  101            \t|  0.38191        \t|  0.45003        \t|\n",
      "|  [Callback]TQDMProgressBar.on_train_epoch_start                                                                                                                 \t|  0.0019404      \t|  100            \t|  0.19404        \t|  0.22865        \t|\n",
      "|  [Callback]TQDMProgressBar.on_train_epoch_end                                                                                                                   \t|  0.0014433      \t|  100            \t|  0.14433        \t|  0.17008        \t|\n",
      "|  [Callback]StochasticWeightAveraging.on_train_epoch_start                                                                                                       \t|  0.0011419      \t|  100            \t|  0.11419        \t|  0.13456        \t|\n",
      "|  [Callback]ModelCheckpoint{'monitor': None, 'mode': 'min', 'every_n_train_steps': 0, 'every_n_epochs': 1, 'train_time_interval': None}.on_train_batch_end       \t|  3.1753e-05     \t|  3000           \t|  0.095259       \t|  0.11225        \t|\n",
      "|  [LightningModule]LitAutoEncoder.configure_gradient_clipping                                                                                                    \t|  2.8286e-05     \t|  3000           \t|  0.084859       \t|  0.099995       \t|\n",
      "|  [Callback]ModelSummary.on_train_batch_end                                                                                                                      \t|  7.9343e-06     \t|  3000           \t|  0.023803       \t|  0.028048       \t|\n",
      "|  [LightningModule]LitAutoEncoder.on_validation_model_zero_grad                                                                                                  \t|  0.00019422     \t|  100            \t|  0.019422       \t|  0.022886       \t|\n",
      "|  [Callback]StochasticWeightAveraging.on_after_backward                                                                                                          \t|  4.4509e-06     \t|  3000           \t|  0.013353       \t|  0.015735       \t|\n",
      "|  [Callback]StochasticWeightAveraging.on_before_zero_grad                                                                                                        \t|  3.4706e-06     \t|  3000           \t|  0.010412       \t|  0.012269       \t|\n",
      "|  [Callback]StochasticWeightAveraging.on_train_batch_start                                                                                                       \t|  2.7349e-06     \t|  3000           \t|  0.0082048      \t|  0.0096683      \t|\n",
      "|  [Callback]StochasticWeightAveraging.on_train_batch_end                                                                                                         \t|  2.5478e-06     \t|  3000           \t|  0.0076434      \t|  0.0090067      \t|\n",
      "|  [LightningModule]LitAutoEncoder.on_before_batch_transfer                                                                                                       \t|  2.0701e-06     \t|  3502           \t|  0.0072494      \t|  0.0085424      \t|\n",
      "|  [Callback]StochasticWeightAveraging.on_before_backward                                                                                                         \t|  2.1974e-06     \t|  3000           \t|  0.0065923      \t|  0.0077681      \t|\n",
      "|  [Callback]StochasticWeightAveraging.on_before_optimizer_step                                                                                                   \t|  1.846e-06      \t|  3000           \t|  0.0055381      \t|  0.0065259      \t|\n",
      "|  [Callback]TQDMProgressBar.on_train_start                                                                                                                       \t|  0.0054654      \t|  1              \t|  0.0054654      \t|  0.0064403      \t|\n",
      "|  [LightningModule]LitAutoEncoder.on_train_batch_end                                                                                                             \t|  1.7828e-06     \t|  3000           \t|  0.0053485      \t|  0.0063025      \t|\n",
      "|  [LightningModule]LitAutoEncoder.on_validation_model_eval                                                                                                       \t|  5.0904e-05     \t|  101            \t|  0.0051413      \t|  0.0060584      \t|\n",
      "|  [Callback]ModelCheckpoint{'monitor': None, 'mode': 'min', 'every_n_train_steps': 0, 'every_n_epochs': 1, 'train_time_interval': None}.on_validation_end        \t|  5.0842e-05     \t|  101            \t|  0.005135       \t|  0.0060509      \t|\n",
      "|  [LightningModule]LitAutoEncoder.on_after_batch_transfer                                                                                                        \t|  1.404e-06      \t|  3502           \t|  0.0049169      \t|  0.0057939      \t|\n",
      "|  [LightningModule]LitAutoEncoder.on_before_zero_grad                                                                                                            \t|  1.5708e-06     \t|  3000           \t|  0.0047123      \t|  0.0055529      \t|\n",
      "|  [LightningModule]LitAutoEncoder.on_after_backward                                                                                                              \t|  1.521e-06      \t|  3000           \t|  0.004563       \t|  0.0053769      \t|\n",
      "|  [LightningModule]LitAutoEncoder.on_train_batch_start                                                                                                           \t|  1.4241e-06     \t|  3000           \t|  0.0042722      \t|  0.0050342      \t|\n",
      "|  [Callback]TQDMProgressBar.on_after_backward                                                                                                                    \t|  1.4002e-06     \t|  3000           \t|  0.0042006      \t|  0.0049499      \t|\n",
      "|  [Callback]ModelCheckpoint{'monitor': None, 'mode': 'min', 'every_n_train_steps': 0, 'every_n_epochs': 1, 'train_time_interval': None}.on_after_backward        \t|  1.3785e-06     \t|  3000           \t|  0.0041355      \t|  0.0048732      \t|\n",
      "|  [Callback]ModelCheckpoint{'monitor': None, 'mode': 'min', 'every_n_train_steps': 0, 'every_n_epochs': 1, 'train_time_interval': None}.on_before_zero_grad      \t|  1.375e-06      \t|  3000           \t|  0.0041249      \t|  0.0048606      \t|\n",
      "|  [Callback]ModelSummary.on_validation_batch_end                                                                                                                 \t|  7.9161e-06     \t|  502            \t|  0.0039739      \t|  0.0046827      \t|\n",
      "|  [Callback]TQDMProgressBar.on_before_zero_grad                                                                                                                  \t|  1.3197e-06     \t|  3000           \t|  0.0039591      \t|  0.0046653      \t|\n",
      "|  [Callback]ModelSummary.on_before_zero_grad                                                                                                                     \t|  1.258e-06      \t|  3000           \t|  0.0037741      \t|  0.0044472      \t|\n",
      "|  [Callback]ModelCheckpoint{'monitor': None, 'mode': 'min', 'every_n_train_steps': 0, 'every_n_epochs': 1, 'train_time_interval': None}.on_train_batch_start     \t|  1.2356e-06     \t|  3000           \t|  0.0037068      \t|  0.004368       \t|\n",
      "|  [Callback]TQDMProgressBar.on_train_batch_start                                                                                                                 \t|  1.2347e-06     \t|  3000           \t|  0.003704       \t|  0.0043647      \t|\n",
      "|  [Callback]TQDMProgressBar.on_before_backward                                                                                                                   \t|  1.2094e-06     \t|  3000           \t|  0.0036281      \t|  0.0042752      \t|\n",
      "|  [Callback]ModelSummary.on_train_batch_start                                                                                                                    \t|  1.2023e-06     \t|  3000           \t|  0.0036068      \t|  0.0042502      \t|\n",
      "|  [Callback]ModelSummary.on_before_optimizer_step                                                                                                                \t|  1.1917e-06     \t|  3000           \t|  0.003575       \t|  0.0042127      \t|\n",
      "|  [LightningModule]LitAutoEncoder.on_before_backward                                                                                                             \t|  1.1856e-06     \t|  3000           \t|  0.0035568      \t|  0.0041912      \t|\n",
      "|  [Callback]ModelSummary.on_before_backward                                                                                                                      \t|  1.1849e-06     \t|  3000           \t|  0.0035547      \t|  0.0041887      \t|\n",
      "|  [Callback]TQDMProgressBar.on_before_optimizer_step                                                                                                             \t|  1.1703e-06     \t|  3000           \t|  0.0035109      \t|  0.0041371      \t|\n",
      "|  [Callback]ModelCheckpoint{'monitor': None, 'mode': 'min', 'every_n_train_steps': 0, 'every_n_epochs': 1, 'train_time_interval': None}.on_before_optimizer_step \t|  1.1466e-06     \t|  3000           \t|  0.0034398      \t|  0.0040534      \t|\n",
      "|  [Callback]ModelCheckpoint{'monitor': None, 'mode': 'min', 'every_n_train_steps': 0, 'every_n_epochs': 1, 'train_time_interval': None}.on_before_backward       \t|  1.0997e-06     \t|  3000           \t|  0.003299       \t|  0.0038874      \t|\n",
      "|  [Callback]ModelSummary.on_after_backward                                                                                                                       \t|  1.089e-06      \t|  3000           \t|  0.0032671      \t|  0.0038498      \t|\n",
      "|  [Strategy]SingleDeviceStrategy.on_train_batch_start                                                                                                            \t|  1.0783e-06     \t|  3000           \t|  0.003235       \t|  0.003812       \t|\n",
      "|  [LightningModule]LitAutoEncoder.on_before_optimizer_step                                                                                                       \t|  9.3605e-07     \t|  3000           \t|  0.0028082      \t|  0.003309       \t|\n",
      "|  [Callback]TQDMProgressBar.on_sanity_check_start                                                                                                                \t|  0.0019541      \t|  1              \t|  0.0019541      \t|  0.0023027      \t|\n",
      "|  [Callback]StochasticWeightAveraging.setup                                                                                                                      \t|  0.0016462      \t|  1              \t|  0.0016462      \t|  0.0019399      \t|\n",
      "|  [Callback]StochasticWeightAveraging.on_validation_batch_end                                                                                                    \t|  3.1617e-06     \t|  502            \t|  0.0015872      \t|  0.0018703      \t|\n",
      "|  [Callback]ModelSummary.on_fit_start                                                                                                                            \t|  0.001554       \t|  1              \t|  0.001554       \t|  0.0018312      \t|\n",
      "|  [Callback]ModelSummary.on_validation_batch_start                                                                                                               \t|  2.9115e-06     \t|  502            \t|  0.0014616      \t|  0.0017223      \t|\n",
      "|  [Callback]StochasticWeightAveraging.on_validation_batch_start                                                                                                  \t|  2.4969e-06     \t|  502            \t|  0.0012534      \t|  0.001477       \t|\n",
      "|  [Callback]ModelSummary.on_validation_start                                                                                                                     \t|  9.7995e-06     \t|  101            \t|  0.00098975     \t|  0.0011663      \t|\n",
      "|  [Callback]StochasticWeightAveraging.on_train_end                                                                                                               \t|  0.00092465     \t|  1              \t|  0.00092465     \t|  0.0010896      \t|\n",
      "|  [Callback]ModelSummary.on_train_epoch_start                                                                                                                    \t|  9.0653e-06     \t|  100            \t|  0.00090653     \t|  0.0010682      \t|\n",
      "|  [Callback]ModelSummary.on_validation_end                                                                                                                       \t|  8.8024e-06     \t|  101            \t|  0.00088904     \t|  0.0010476      \t|\n",
      "|  [LightningModule]LitAutoEncoder.on_validation_batch_end                                                                                                        \t|  1.7225e-06     \t|  502            \t|  0.00086467     \t|  0.0010189      \t|\n",
      "|  [Callback]TQDMProgressBar.on_train_end                                                                                                                         \t|  0.00084219     \t|  1              \t|  0.00084219     \t|  0.00099242     \t|\n",
      "|  [LightningModule]LitAutoEncoder.on_validation_batch_start                                                                                                      \t|  1.5652e-06     \t|  502            \t|  0.00078571     \t|  0.00092586     \t|\n",
      "|  [Callback]ModelCheckpoint{'monitor': None, 'mode': 'min', 'every_n_train_steps': 0, 'every_n_epochs': 1, 'train_time_interval': None}.on_validation_batch_end  \t|  1.4886e-06     \t|  502            \t|  0.0007473      \t|  0.0008806      \t|\n",
      "|  [LightningModule]LitAutoEncoder.lr_scheduler_step                                                                                                              \t|  3.2683e-05     \t|  21             \t|  0.00068635     \t|  0.00080877     \t|\n",
      "|  [Callback]ModelSummary.on_train_epoch_end                                                                                                                      \t|  6.5182e-06     \t|  100            \t|  0.00065182     \t|  0.00076809     \t|\n",
      "|  [Callback]ModelCheckpoint{'monitor': None, 'mode': 'min', 'every_n_train_steps': 0, 'every_n_epochs': 1, 'train_time_interval': None}.on_validation_batch_start\t|  1.15e-06       \t|  502            \t|  0.00057728     \t|  0.00068025     \t|\n",
      "|  [Callback]ModelCheckpoint{'monitor': None, 'mode': 'min', 'every_n_train_steps': 0, 'every_n_epochs': 1, 'train_time_interval': None}.setup                    \t|  0.00053221     \t|  1              \t|  0.00053221     \t|  0.00062714     \t|\n",
      "|  [Callback]StochasticWeightAveraging.on_validation_end                                                                                                          \t|  4.4024e-06     \t|  101            \t|  0.00044465     \t|  0.00052396     \t|\n",
      "|  [Callback]StochasticWeightAveraging.on_validation_epoch_end                                                                                                    \t|  4.3506e-06     \t|  101            \t|  0.00043941     \t|  0.00051778     \t|\n",
      "|  [Callback]StochasticWeightAveraging.on_train_epoch_end                                                                                                         \t|  4.36e-06       \t|  100            \t|  0.000436       \t|  0.00051377     \t|\n",
      "|  [LightningModule]LitAutoEncoder.configure_optimizers                                                                                                           \t|  0.00037332     \t|  1              \t|  0.00037332     \t|  0.00043991     \t|\n",
      "|  [LightningDataModule]LitDataModule.train_dataloader                                                                                                            \t|  0.00035427     \t|  1              \t|  0.00035427     \t|  0.00041746     \t|\n",
      "|  [LightningDataModule]LitDataModule.val_dataloader                                                                                                              \t|  0.000274       \t|  1              \t|  0.000274       \t|  0.00032287     \t|\n",
      "|  [LightningDataModule]LitDataModule.state_dict                                                                                                                  \t|  2.43e-06       \t|  100            \t|  0.000243       \t|  0.00028634     \t|\n",
      "|  [Callback]StochasticWeightAveraging.on_validation_start                                                                                                        \t|  2.2431e-06     \t|  101            \t|  0.00022655     \t|  0.00026696     \t|\n",
      "|  [Callback]StochasticWeightAveraging.on_save_checkpoint                                                                                                         \t|  2.1615e-06     \t|  100            \t|  0.00021615     \t|  0.00025471     \t|\n",
      "|  [LightningModule]LitAutoEncoder.on_validation_end                                                                                                              \t|  2.1042e-06     \t|  101            \t|  0.00021252     \t|  0.00025043     \t|\n",
      "|  [LightningModule]LitAutoEncoder.on_train_epoch_start                                                                                                           \t|  1.8385e-06     \t|  100            \t|  0.00018385     \t|  0.00021664     \t|\n",
      "|  [Callback]StochasticWeightAveraging.on_validation_epoch_start                                                                                                  \t|  1.7921e-06     \t|  101            \t|  0.000181       \t|  0.00021329     \t|\n",
      "|  [LightningModule]LitAutoEncoder.on_train_epoch_end                                                                                                             \t|  1.7171e-06     \t|  100            \t|  0.00017171     \t|  0.00020234     \t|\n",
      "|  [Callback]TQDMProgressBar.on_save_checkpoint                                                                                                                   \t|  1.6299e-06     \t|  100            \t|  0.00016299     \t|  0.00019206     \t|\n",
      "|  [LightningModule]LitAutoEncoder.on_validation_start                                                                                                            \t|  1.5214e-06     \t|  101            \t|  0.00015366     \t|  0.00018107     \t|\n",
      "|  [Callback]ModelCheckpoint{'monitor': None, 'mode': 'min', 'every_n_train_steps': 0, 'every_n_epochs': 1, 'train_time_interval': None}.on_train_epoch_start     \t|  1.4072e-06     \t|  100            \t|  0.00014072     \t|  0.00016582     \t|\n",
      "|  [Callback]ModelCheckpoint{'monitor': None, 'mode': 'min', 'every_n_train_steps': 0, 'every_n_epochs': 1, 'train_time_interval': None}.on_validation_start      \t|  1.3861e-06     \t|  101            \t|  0.00013999     \t|  0.00016496     \t|\n",
      "|  [Strategy]SingleDeviceStrategy.on_validation_start                                                                                                             \t|  1.3329e-06     \t|  101            \t|  0.00013462     \t|  0.00015863     \t|\n",
      "|  [LightningModule]LitAutoEncoder.on_validation_epoch_end                                                                                                        \t|  1.328e-06      \t|  101            \t|  0.00013413     \t|  0.00015806     \t|\n",
      "|  [LightningModule]LitAutoEncoder.on_validation_epoch_start                                                                                                      \t|  1.247e-06      \t|  101            \t|  0.00012595     \t|  0.00014842     \t|\n",
      "|  [Strategy]SingleDeviceStrategy.on_validation_end                                                                                                               \t|  1.2453e-06     \t|  101            \t|  0.00012577     \t|  0.0001482      \t|\n",
      "|  [Callback]TQDMProgressBar.on_validation_epoch_end                                                                                                              \t|  1.235e-06      \t|  101            \t|  0.00012473     \t|  0.00014698     \t|\n",
      "|  [Callback]ModelCheckpoint{'monitor': None, 'mode': 'min', 'every_n_train_steps': 0, 'every_n_epochs': 1, 'train_time_interval': None}.on_save_checkpoint       \t|  1.1852e-06     \t|  100            \t|  0.00011852     \t|  0.00013967     \t|\n",
      "|  [Callback]ModelSummary.on_validation_epoch_start                                                                                                               \t|  1.1533e-06     \t|  101            \t|  0.00011648     \t|  0.00013726     \t|\n",
      "|  [Callback]TQDMProgressBar.on_validation_epoch_start                                                                                                            \t|  1.0761e-06     \t|  101            \t|  0.00010868     \t|  0.00012807     \t|\n",
      "|  [Callback]ModelSummary.on_save_checkpoint                                                                                                                      \t|  1.0697e-06     \t|  100            \t|  0.00010697     \t|  0.00012605     \t|\n",
      "|  [Callback]ModelCheckpoint{'monitor': None, 'mode': 'min', 'every_n_train_steps': 0, 'every_n_epochs': 1, 'train_time_interval': None}.on_validation_epoch_end  \t|  1.0498e-06     \t|  101            \t|  0.00010603     \t|  0.00012494     \t|\n",
      "|  [Callback]ModelCheckpoint{'monitor': None, 'mode': 'min', 'every_n_train_steps': 0, 'every_n_epochs': 1, 'train_time_interval': None}.on_validation_epoch_start\t|  1.0344e-06     \t|  101            \t|  0.00010447     \t|  0.00012311     \t|\n",
      "|  [Callback]ModelSummary.on_validation_epoch_end                                                                                                                 \t|  1.002e-06      \t|  101            \t|  0.0001012      \t|  0.00011925     \t|\n",
      "|  [LightningModule]LitAutoEncoder.on_save_checkpoint                                                                                                             \t|  7.9342e-07     \t|  100            \t|  7.9342e-05     \t|  9.3494e-05     \t|\n",
      "|  [Callback]StochasticWeightAveraging.on_fit_start                                                                                                               \t|  4.195e-05      \t|  1              \t|  4.195e-05      \t|  4.9433e-05     \t|\n",
      "|  [Callback]StochasticWeightAveraging.on_train_start                                                                                                             \t|  4.1139e-05     \t|  1              \t|  4.1139e-05     \t|  4.8477e-05     \t|\n",
      "|  [Callback]TQDMProgressBar.setup                                                                                                                                \t|  1.926e-05      \t|  1              \t|  1.926e-05      \t|  2.2695e-05     \t|\n",
      "|  [Callback]ModelCheckpoint{'monitor': None, 'mode': 'min', 'every_n_train_steps': 0, 'every_n_epochs': 1, 'train_time_interval': None}.on_fit_start             \t|  1.162e-05      \t|  1              \t|  1.162e-05      \t|  1.3693e-05     \t|\n",
      "|  [LightningModule]LitAutoEncoder.on_train_start                                                                                                                 \t|  1.1069e-05     \t|  1              \t|  1.1069e-05     \t|  1.3043e-05     \t|\n",
      "|  [Callback]ModelSummary.on_train_start                                                                                                                          \t|  9.82e-06       \t|  1              \t|  9.82e-06       \t|  1.1572e-05     \t|\n",
      "|  [Callback]ModelSummary.on_sanity_check_start                                                                                                                   \t|  8.87e-06       \t|  1              \t|  8.87e-06       \t|  1.0452e-05     \t|\n",
      "|  [LightningDataModule]LitDataModule.setup                                                                                                                       \t|  6.84e-06       \t|  1              \t|  6.84e-06       \t|  8.06e-06       \t|\n",
      "|  [Strategy]SingleDeviceStrategy.on_train_start                                                                                                                  \t|  5.659e-06      \t|  1              \t|  5.659e-06      \t|  6.6684e-06     \t|\n",
      "|  [Callback]ModelSummary.setup                                                                                                                                   \t|  5.27e-06       \t|  1              \t|  5.27e-06       \t|  6.21e-06       \t|\n",
      "|  [Callback]StochasticWeightAveraging.on_fit_end                                                                                                                 \t|  5.17e-06       \t|  1              \t|  5.17e-06       \t|  6.0922e-06     \t|\n",
      "|  [Callback]StochasticWeightAveraging.on_sanity_check_start                                                                                                      \t|  5.07e-06       \t|  1              \t|  5.07e-06       \t|  5.9743e-06     \t|\n",
      "|  [LightningModule]LitAutoEncoder.on_fit_end                                                                                                                     \t|  4.63e-06       \t|  1              \t|  4.63e-06       \t|  5.4558e-06     \t|\n",
      "|  [LightningModule]LitAutoEncoder.configure_callbacks                                                                                                            \t|  4.41e-06       \t|  1              \t|  4.41e-06       \t|  5.1966e-06     \t|\n",
      "|  [Callback]TQDMProgressBar.on_sanity_check_end                                                                                                                  \t|  4.02e-06       \t|  1              \t|  4.02e-06       \t|  4.737e-06      \t|\n",
      "|  [Callback]ModelCheckpoint{'monitor': None, 'mode': 'min', 'every_n_train_steps': 0, 'every_n_epochs': 1, 'train_time_interval': None}.on_train_start           \t|  3.74e-06       \t|  1              \t|  3.74e-06       \t|  4.4071e-06     \t|\n",
      "|  [LightningModule]LitAutoEncoder.setup                                                                                                                          \t|  3.71e-06       \t|  1              \t|  3.71e-06       \t|  4.3718e-06     \t|\n",
      "|  [Callback]ModelSummary.on_train_end                                                                                                                            \t|  3.52e-06       \t|  1              \t|  3.52e-06       \t|  4.1479e-06     \t|\n",
      "|  [Callback]StochasticWeightAveraging.on_sanity_check_end                                                                                                        \t|  2.49e-06       \t|  1              \t|  2.49e-06       \t|  2.9341e-06     \t|\n",
      "|  [LightningModule]LitAutoEncoder.on_fit_start                                                                                                                   \t|  2.22e-06       \t|  1              \t|  2.22e-06       \t|  2.616e-06      \t|\n",
      "|  [LightningDataModule]LitDataModule.prepare_data                                                                                                                \t|  2.15e-06       \t|  1              \t|  2.15e-06       \t|  2.5335e-06     \t|\n",
      "|  [Callback]StochasticWeightAveraging.teardown                                                                                                                   \t|  1.95e-06       \t|  1              \t|  1.95e-06       \t|  2.2978e-06     \t|\n",
      "|  [Callback]TQDMProgressBar.on_fit_start                                                                                                                         \t|  1.85e-06       \t|  1              \t|  1.85e-06       \t|  2.18e-06       \t|\n",
      "|  [LightningModule]LitAutoEncoder.on_train_end                                                                                                                   \t|  1.74e-06       \t|  1              \t|  1.74e-06       \t|  2.0504e-06     \t|\n",
      "|  [Strategy]SingleDeviceStrategy.on_train_end                                                                                                                    \t|  1.47e-06       \t|  1              \t|  1.47e-06       \t|  1.7322e-06     \t|\n",
      "|  [LightningDataModule]LitDataModule.teardown                                                                                                                    \t|  1.42e-06       \t|  1              \t|  1.42e-06       \t|  1.6733e-06     \t|\n",
      "|  [Callback]ModelCheckpoint{'monitor': None, 'mode': 'min', 'every_n_train_steps': 0, 'every_n_epochs': 1, 'train_time_interval': None}.on_sanity_check_start    \t|  1.25e-06       \t|  1              \t|  1.25e-06       \t|  1.473e-06      \t|\n",
      "|  [Callback]ModelCheckpoint{'monitor': None, 'mode': 'min', 'every_n_train_steps': 0, 'every_n_epochs': 1, 'train_time_interval': None}.on_train_end             \t|  1.21e-06       \t|  1              \t|  1.21e-06       \t|  1.4258e-06     \t|\n",
      "|  [Callback]TQDMProgressBar.teardown                                                                                                                             \t|  1.15e-06       \t|  1              \t|  1.15e-06       \t|  1.3551e-06     \t|\n",
      "|  [Callback]TQDMProgressBar.on_fit_end                                                                                                                           \t|  1.13e-06       \t|  1              \t|  1.13e-06       \t|  1.3316e-06     \t|\n",
      "|  [Callback]ModelCheckpoint{'monitor': None, 'mode': 'min', 'every_n_train_steps': 0, 'every_n_epochs': 1, 'train_time_interval': None}.teardown                 \t|  1.12e-06       \t|  1              \t|  1.12e-06       \t|  1.3198e-06     \t|\n",
      "|  [Callback]ModelCheckpoint{'monitor': None, 'mode': 'min', 'every_n_train_steps': 0, 'every_n_epochs': 1, 'train_time_interval': None}.on_sanity_check_end      \t|  1.05e-06       \t|  1              \t|  1.05e-06       \t|  1.2373e-06     \t|\n",
      "|  [Callback]ModelCheckpoint{'monitor': None, 'mode': 'min', 'every_n_train_steps': 0, 'every_n_epochs': 1, 'train_time_interval': None}.on_fit_end               \t|  1.05e-06       \t|  1              \t|  1.05e-06       \t|  1.2373e-06     \t|\n",
      "|  [Callback]ModelSummary.on_fit_end                                                                                                                              \t|  9.9e-07        \t|  1              \t|  9.9e-07        \t|  1.1666e-06     \t|\n",
      "|  [Callback]ModelSummary.teardown                                                                                                                                \t|  9.8e-07        \t|  1              \t|  9.8e-07        \t|  1.1548e-06     \t|\n",
      "|  [Callback]ModelSummary.on_sanity_check_end                                                                                                                     \t|  9.7e-07        \t|  1              \t|  9.7e-07        \t|  1.143e-06      \t|\n",
      "|  [LightningModule]LitAutoEncoder.teardown                                                                                                                       \t|  8.6e-07        \t|  1              \t|  8.6e-07        \t|  1.0134e-06     \t|\n",
      "|  [LightningModule]LitAutoEncoder.prepare_data                                                                                                                   \t|  8.4e-07        \t|  1              \t|  8.4e-07        \t|  9.8983e-07     \t|\n",
      "--------------------------------------------------------------------------------------------------------------------------------------------------------------------------------------------------------------------------------------------------------------------------\n",
      "\n"
     ]
    }
   ],
   "source": [
    "trainer.fit(autoencoder, datamodule)"
   ]
  },
  {
   "cell_type": "markdown",
   "metadata": {},
   "source": []
  },
  {
   "cell_type": "code",
   "execution_count": 6,
   "metadata": {},
   "outputs": [
    {
     "ename": "FileNotFoundError",
     "evalue": "[Errno 2] No such file or directory: '/app/lightning_logs/version_0/checkpoints/epoch=0-step=100.ckpt'",
     "output_type": "error",
     "traceback": [
      "\u001b[0;31m---------------------------------------------------------------------------\u001b[0m",
      "\u001b[0;31mFileNotFoundError\u001b[0m                         Traceback (most recent call last)",
      "Cell \u001b[0;32mIn[6], line 3\u001b[0m\n\u001b[1;32m      1\u001b[0m \u001b[38;5;66;03m# load checkpoint\u001b[39;00m\n\u001b[1;32m      2\u001b[0m checkpoint \u001b[38;5;241m=\u001b[39m \u001b[38;5;124m\"\u001b[39m\u001b[38;5;124m./lightning_logs/version_0/checkpoints/epoch=0-step=100.ckpt\u001b[39m\u001b[38;5;124m\"\u001b[39m\n\u001b[0;32m----> 3\u001b[0m autoencoder \u001b[38;5;241m=\u001b[39m \u001b[43mLitAutoEncoder\u001b[49m\u001b[38;5;241;43m.\u001b[39;49m\u001b[43mload_from_checkpoint\u001b[49m\u001b[43m(\u001b[49m\n\u001b[1;32m      4\u001b[0m \u001b[43m    \u001b[49m\u001b[43mcheckpoint\u001b[49m\u001b[43m,\u001b[49m\u001b[43m \u001b[49m\u001b[43mencoder\u001b[49m\u001b[38;5;241;43m=\u001b[39;49m\u001b[43mencoder\u001b[49m\u001b[43m,\u001b[49m\u001b[43m \u001b[49m\u001b[43mdecoder\u001b[49m\u001b[38;5;241;43m=\u001b[39;49m\u001b[43mdecoder\u001b[49m\n\u001b[1;32m      5\u001b[0m \u001b[43m)\u001b[49m\n\u001b[1;32m      7\u001b[0m \u001b[38;5;66;03m# choose your trained nn.Module\u001b[39;00m\n\u001b[1;32m      8\u001b[0m encoder \u001b[38;5;241m=\u001b[39m autoencoder\u001b[38;5;241m.\u001b[39mencoder\n",
      "File \u001b[0;32m/usr/local/lib/python3.10/dist-packages/lightning/pytorch/utilities/model_helpers.py:125\u001b[0m, in \u001b[0;36m_restricted_classmethod_impl.__get__.<locals>.wrapper\u001b[0;34m(*args, **kwargs)\u001b[0m\n\u001b[1;32m    120\u001b[0m \u001b[38;5;28;01mif\u001b[39;00m instance \u001b[38;5;129;01mis\u001b[39;00m \u001b[38;5;129;01mnot\u001b[39;00m \u001b[38;5;28;01mNone\u001b[39;00m \u001b[38;5;129;01mand\u001b[39;00m \u001b[38;5;129;01mnot\u001b[39;00m is_scripting:\n\u001b[1;32m    121\u001b[0m     \u001b[38;5;28;01mraise\u001b[39;00m \u001b[38;5;167;01mTypeError\u001b[39;00m(\n\u001b[1;32m    122\u001b[0m         \u001b[38;5;124mf\u001b[39m\u001b[38;5;124m\"\u001b[39m\u001b[38;5;124mThe classmethod `\u001b[39m\u001b[38;5;132;01m{\u001b[39;00m\u001b[38;5;28mcls\u001b[39m\u001b[38;5;241m.\u001b[39m\u001b[38;5;18m__name__\u001b[39m\u001b[38;5;132;01m}\u001b[39;00m\u001b[38;5;124m.\u001b[39m\u001b[38;5;132;01m{\u001b[39;00m\u001b[38;5;28mself\u001b[39m\u001b[38;5;241m.\u001b[39mmethod\u001b[38;5;241m.\u001b[39m\u001b[38;5;18m__name__\u001b[39m\u001b[38;5;132;01m}\u001b[39;00m\u001b[38;5;124m` cannot be called on an instance.\u001b[39m\u001b[38;5;124m\"\u001b[39m\n\u001b[1;32m    123\u001b[0m         \u001b[38;5;124m\"\u001b[39m\u001b[38;5;124m Please call it on the class type and make sure the return value is used.\u001b[39m\u001b[38;5;124m\"\u001b[39m\n\u001b[1;32m    124\u001b[0m     )\n\u001b[0;32m--> 125\u001b[0m \u001b[38;5;28;01mreturn\u001b[39;00m \u001b[38;5;28;43mself\u001b[39;49m\u001b[38;5;241;43m.\u001b[39;49m\u001b[43mmethod\u001b[49m\u001b[43m(\u001b[49m\u001b[38;5;28;43mcls\u001b[39;49m\u001b[43m,\u001b[49m\u001b[43m \u001b[49m\u001b[38;5;241;43m*\u001b[39;49m\u001b[43margs\u001b[49m\u001b[43m,\u001b[49m\u001b[43m \u001b[49m\u001b[38;5;241;43m*\u001b[39;49m\u001b[38;5;241;43m*\u001b[39;49m\u001b[43mkwargs\u001b[49m\u001b[43m)\u001b[49m\n",
      "File \u001b[0;32m/usr/local/lib/python3.10/dist-packages/lightning/pytorch/core/module.py:1581\u001b[0m, in \u001b[0;36mLightningModule.load_from_checkpoint\u001b[0;34m(cls, checkpoint_path, map_location, hparams_file, strict, **kwargs)\u001b[0m\n\u001b[1;32m   1492\u001b[0m \u001b[38;5;129m@_restricted_classmethod\u001b[39m\n\u001b[1;32m   1493\u001b[0m \u001b[38;5;28;01mdef\u001b[39;00m \u001b[38;5;21mload_from_checkpoint\u001b[39m(\n\u001b[1;32m   1494\u001b[0m     \u001b[38;5;28mcls\u001b[39m,\n\u001b[0;32m   (...)\u001b[0m\n\u001b[1;32m   1499\u001b[0m     \u001b[38;5;241m*\u001b[39m\u001b[38;5;241m*\u001b[39mkwargs: Any,\n\u001b[1;32m   1500\u001b[0m ) \u001b[38;5;241m-\u001b[39m\u001b[38;5;241m>\u001b[39m Self:\n\u001b[1;32m   1501\u001b[0m \u001b[38;5;250m    \u001b[39m\u001b[38;5;124mr\u001b[39m\u001b[38;5;124;03m\"\"\"Primary way of loading a model from a checkpoint. When Lightning saves a checkpoint it stores the arguments\u001b[39;00m\n\u001b[1;32m   1502\u001b[0m \u001b[38;5;124;03m    passed to ``__init__``  in the checkpoint under ``\"hyper_parameters\"``.\u001b[39;00m\n\u001b[1;32m   1503\u001b[0m \n\u001b[0;32m   (...)\u001b[0m\n\u001b[1;32m   1579\u001b[0m \n\u001b[1;32m   1580\u001b[0m \u001b[38;5;124;03m    \"\"\"\u001b[39;00m\n\u001b[0;32m-> 1581\u001b[0m     loaded \u001b[38;5;241m=\u001b[39m \u001b[43m_load_from_checkpoint\u001b[49m\u001b[43m(\u001b[49m\n\u001b[1;32m   1582\u001b[0m \u001b[43m        \u001b[49m\u001b[38;5;28;43mcls\u001b[39;49m\u001b[43m,\u001b[49m\u001b[43m  \u001b[49m\u001b[38;5;66;43;03m# type: ignore[arg-type]\u001b[39;49;00m\n\u001b[1;32m   1583\u001b[0m \u001b[43m        \u001b[49m\u001b[43mcheckpoint_path\u001b[49m\u001b[43m,\u001b[49m\n\u001b[1;32m   1584\u001b[0m \u001b[43m        \u001b[49m\u001b[43mmap_location\u001b[49m\u001b[43m,\u001b[49m\n\u001b[1;32m   1585\u001b[0m \u001b[43m        \u001b[49m\u001b[43mhparams_file\u001b[49m\u001b[43m,\u001b[49m\n\u001b[1;32m   1586\u001b[0m \u001b[43m        \u001b[49m\u001b[43mstrict\u001b[49m\u001b[43m,\u001b[49m\n\u001b[1;32m   1587\u001b[0m \u001b[43m        \u001b[49m\u001b[38;5;241;43m*\u001b[39;49m\u001b[38;5;241;43m*\u001b[39;49m\u001b[43mkwargs\u001b[49m\u001b[43m,\u001b[49m\n\u001b[1;32m   1588\u001b[0m \u001b[43m    \u001b[49m\u001b[43m)\u001b[49m\n\u001b[1;32m   1589\u001b[0m     \u001b[38;5;28;01mreturn\u001b[39;00m cast(Self, loaded)\n",
      "File \u001b[0;32m/usr/local/lib/python3.10/dist-packages/lightning/pytorch/core/saving.py:63\u001b[0m, in \u001b[0;36m_load_from_checkpoint\u001b[0;34m(cls, checkpoint_path, map_location, hparams_file, strict, **kwargs)\u001b[0m\n\u001b[1;32m     61\u001b[0m map_location \u001b[38;5;241m=\u001b[39m map_location \u001b[38;5;129;01mor\u001b[39;00m _default_map_location\n\u001b[1;32m     62\u001b[0m \u001b[38;5;28;01mwith\u001b[39;00m pl_legacy_patch():\n\u001b[0;32m---> 63\u001b[0m     checkpoint \u001b[38;5;241m=\u001b[39m \u001b[43mpl_load\u001b[49m\u001b[43m(\u001b[49m\u001b[43mcheckpoint_path\u001b[49m\u001b[43m,\u001b[49m\u001b[43m \u001b[49m\u001b[43mmap_location\u001b[49m\u001b[38;5;241;43m=\u001b[39;49m\u001b[43mmap_location\u001b[49m\u001b[43m)\u001b[49m\n\u001b[1;32m     65\u001b[0m \u001b[38;5;66;03m# convert legacy checkpoints to the new format\u001b[39;00m\n\u001b[1;32m     66\u001b[0m checkpoint \u001b[38;5;241m=\u001b[39m _pl_migrate_checkpoint(\n\u001b[1;32m     67\u001b[0m     checkpoint, checkpoint_path\u001b[38;5;241m=\u001b[39m(checkpoint_path \u001b[38;5;28;01mif\u001b[39;00m \u001b[38;5;28misinstance\u001b[39m(checkpoint_path, (\u001b[38;5;28mstr\u001b[39m, Path)) \u001b[38;5;28;01melse\u001b[39;00m \u001b[38;5;28;01mNone\u001b[39;00m)\n\u001b[1;32m     68\u001b[0m )\n",
      "File \u001b[0;32m/usr/local/lib/python3.10/dist-packages/lightning/fabric/utilities/cloud_io.py:55\u001b[0m, in \u001b[0;36m_load\u001b[0;34m(path_or_url, map_location)\u001b[0m\n\u001b[1;32m     50\u001b[0m     \u001b[38;5;28;01mreturn\u001b[39;00m torch\u001b[38;5;241m.\u001b[39mhub\u001b[38;5;241m.\u001b[39mload_state_dict_from_url(\n\u001b[1;32m     51\u001b[0m         \u001b[38;5;28mstr\u001b[39m(path_or_url),\n\u001b[1;32m     52\u001b[0m         map_location\u001b[38;5;241m=\u001b[39mmap_location,  \u001b[38;5;66;03m# type: ignore[arg-type]\u001b[39;00m\n\u001b[1;32m     53\u001b[0m     )\n\u001b[1;32m     54\u001b[0m fs \u001b[38;5;241m=\u001b[39m get_filesystem(path_or_url)\n\u001b[0;32m---> 55\u001b[0m \u001b[38;5;28;01mwith\u001b[39;00m \u001b[43mfs\u001b[49m\u001b[38;5;241;43m.\u001b[39;49m\u001b[43mopen\u001b[49m\u001b[43m(\u001b[49m\u001b[43mpath_or_url\u001b[49m\u001b[43m,\u001b[49m\u001b[43m \u001b[49m\u001b[38;5;124;43m\"\u001b[39;49m\u001b[38;5;124;43mrb\u001b[39;49m\u001b[38;5;124;43m\"\u001b[39;49m\u001b[43m)\u001b[49m \u001b[38;5;28;01mas\u001b[39;00m f:\n\u001b[1;32m     56\u001b[0m     \u001b[38;5;28;01mreturn\u001b[39;00m torch\u001b[38;5;241m.\u001b[39mload(f, map_location\u001b[38;5;241m=\u001b[39mmap_location)\n",
      "File \u001b[0;32m/usr/local/lib/python3.10/dist-packages/fsspec/spec.py:1307\u001b[0m, in \u001b[0;36mAbstractFileSystem.open\u001b[0;34m(self, path, mode, block_size, cache_options, compression, **kwargs)\u001b[0m\n\u001b[1;32m   1305\u001b[0m \u001b[38;5;28;01melse\u001b[39;00m:\n\u001b[1;32m   1306\u001b[0m     ac \u001b[38;5;241m=\u001b[39m kwargs\u001b[38;5;241m.\u001b[39mpop(\u001b[38;5;124m\"\u001b[39m\u001b[38;5;124mautocommit\u001b[39m\u001b[38;5;124m\"\u001b[39m, \u001b[38;5;129;01mnot\u001b[39;00m \u001b[38;5;28mself\u001b[39m\u001b[38;5;241m.\u001b[39m_intrans)\n\u001b[0;32m-> 1307\u001b[0m     f \u001b[38;5;241m=\u001b[39m \u001b[38;5;28;43mself\u001b[39;49m\u001b[38;5;241;43m.\u001b[39;49m\u001b[43m_open\u001b[49m\u001b[43m(\u001b[49m\n\u001b[1;32m   1308\u001b[0m \u001b[43m        \u001b[49m\u001b[43mpath\u001b[49m\u001b[43m,\u001b[49m\n\u001b[1;32m   1309\u001b[0m \u001b[43m        \u001b[49m\u001b[43mmode\u001b[49m\u001b[38;5;241;43m=\u001b[39;49m\u001b[43mmode\u001b[49m\u001b[43m,\u001b[49m\n\u001b[1;32m   1310\u001b[0m \u001b[43m        \u001b[49m\u001b[43mblock_size\u001b[49m\u001b[38;5;241;43m=\u001b[39;49m\u001b[43mblock_size\u001b[49m\u001b[43m,\u001b[49m\n\u001b[1;32m   1311\u001b[0m \u001b[43m        \u001b[49m\u001b[43mautocommit\u001b[49m\u001b[38;5;241;43m=\u001b[39;49m\u001b[43mac\u001b[49m\u001b[43m,\u001b[49m\n\u001b[1;32m   1312\u001b[0m \u001b[43m        \u001b[49m\u001b[43mcache_options\u001b[49m\u001b[38;5;241;43m=\u001b[39;49m\u001b[43mcache_options\u001b[49m\u001b[43m,\u001b[49m\n\u001b[1;32m   1313\u001b[0m \u001b[43m        \u001b[49m\u001b[38;5;241;43m*\u001b[39;49m\u001b[38;5;241;43m*\u001b[39;49m\u001b[43mkwargs\u001b[49m\u001b[43m,\u001b[49m\n\u001b[1;32m   1314\u001b[0m \u001b[43m    \u001b[49m\u001b[43m)\u001b[49m\n\u001b[1;32m   1315\u001b[0m     \u001b[38;5;28;01mif\u001b[39;00m compression \u001b[38;5;129;01mis\u001b[39;00m \u001b[38;5;129;01mnot\u001b[39;00m \u001b[38;5;28;01mNone\u001b[39;00m:\n\u001b[1;32m   1316\u001b[0m         \u001b[38;5;28;01mfrom\u001b[39;00m \u001b[38;5;21;01mfsspec\u001b[39;00m\u001b[38;5;21;01m.\u001b[39;00m\u001b[38;5;21;01mcompression\u001b[39;00m \u001b[38;5;28;01mimport\u001b[39;00m compr\n",
      "File \u001b[0;32m/usr/local/lib/python3.10/dist-packages/fsspec/implementations/local.py:180\u001b[0m, in \u001b[0;36mLocalFileSystem._open\u001b[0;34m(self, path, mode, block_size, **kwargs)\u001b[0m\n\u001b[1;32m    178\u001b[0m \u001b[38;5;28;01mif\u001b[39;00m \u001b[38;5;28mself\u001b[39m\u001b[38;5;241m.\u001b[39mauto_mkdir \u001b[38;5;129;01mand\u001b[39;00m \u001b[38;5;124m\"\u001b[39m\u001b[38;5;124mw\u001b[39m\u001b[38;5;124m\"\u001b[39m \u001b[38;5;129;01min\u001b[39;00m mode:\n\u001b[1;32m    179\u001b[0m     \u001b[38;5;28mself\u001b[39m\u001b[38;5;241m.\u001b[39mmakedirs(\u001b[38;5;28mself\u001b[39m\u001b[38;5;241m.\u001b[39m_parent(path), exist_ok\u001b[38;5;241m=\u001b[39m\u001b[38;5;28;01mTrue\u001b[39;00m)\n\u001b[0;32m--> 180\u001b[0m \u001b[38;5;28;01mreturn\u001b[39;00m \u001b[43mLocalFileOpener\u001b[49m\u001b[43m(\u001b[49m\u001b[43mpath\u001b[49m\u001b[43m,\u001b[49m\u001b[43m \u001b[49m\u001b[43mmode\u001b[49m\u001b[43m,\u001b[49m\u001b[43m \u001b[49m\u001b[43mfs\u001b[49m\u001b[38;5;241;43m=\u001b[39;49m\u001b[38;5;28;43mself\u001b[39;49m\u001b[43m,\u001b[49m\u001b[43m \u001b[49m\u001b[38;5;241;43m*\u001b[39;49m\u001b[38;5;241;43m*\u001b[39;49m\u001b[43mkwargs\u001b[49m\u001b[43m)\u001b[49m\n",
      "File \u001b[0;32m/usr/local/lib/python3.10/dist-packages/fsspec/implementations/local.py:302\u001b[0m, in \u001b[0;36mLocalFileOpener.__init__\u001b[0;34m(self, path, mode, autocommit, fs, compression, **kwargs)\u001b[0m\n\u001b[1;32m    300\u001b[0m \u001b[38;5;28mself\u001b[39m\u001b[38;5;241m.\u001b[39mcompression \u001b[38;5;241m=\u001b[39m get_compression(path, compression)\n\u001b[1;32m    301\u001b[0m \u001b[38;5;28mself\u001b[39m\u001b[38;5;241m.\u001b[39mblocksize \u001b[38;5;241m=\u001b[39m io\u001b[38;5;241m.\u001b[39mDEFAULT_BUFFER_SIZE\n\u001b[0;32m--> 302\u001b[0m \u001b[38;5;28;43mself\u001b[39;49m\u001b[38;5;241;43m.\u001b[39;49m\u001b[43m_open\u001b[49m\u001b[43m(\u001b[49m\u001b[43m)\u001b[49m\n",
      "File \u001b[0;32m/usr/local/lib/python3.10/dist-packages/fsspec/implementations/local.py:307\u001b[0m, in \u001b[0;36mLocalFileOpener._open\u001b[0;34m(self)\u001b[0m\n\u001b[1;32m    305\u001b[0m \u001b[38;5;28;01mif\u001b[39;00m \u001b[38;5;28mself\u001b[39m\u001b[38;5;241m.\u001b[39mf \u001b[38;5;129;01mis\u001b[39;00m \u001b[38;5;28;01mNone\u001b[39;00m \u001b[38;5;129;01mor\u001b[39;00m \u001b[38;5;28mself\u001b[39m\u001b[38;5;241m.\u001b[39mf\u001b[38;5;241m.\u001b[39mclosed:\n\u001b[1;32m    306\u001b[0m     \u001b[38;5;28;01mif\u001b[39;00m \u001b[38;5;28mself\u001b[39m\u001b[38;5;241m.\u001b[39mautocommit \u001b[38;5;129;01mor\u001b[39;00m \u001b[38;5;124m\"\u001b[39m\u001b[38;5;124mw\u001b[39m\u001b[38;5;124m\"\u001b[39m \u001b[38;5;129;01mnot\u001b[39;00m \u001b[38;5;129;01min\u001b[39;00m \u001b[38;5;28mself\u001b[39m\u001b[38;5;241m.\u001b[39mmode:\n\u001b[0;32m--> 307\u001b[0m         \u001b[38;5;28mself\u001b[39m\u001b[38;5;241m.\u001b[39mf \u001b[38;5;241m=\u001b[39m \u001b[38;5;28;43mopen\u001b[39;49m\u001b[43m(\u001b[49m\u001b[38;5;28;43mself\u001b[39;49m\u001b[38;5;241;43m.\u001b[39;49m\u001b[43mpath\u001b[49m\u001b[43m,\u001b[49m\u001b[43m \u001b[49m\u001b[43mmode\u001b[49m\u001b[38;5;241;43m=\u001b[39;49m\u001b[38;5;28;43mself\u001b[39;49m\u001b[38;5;241;43m.\u001b[39;49m\u001b[43mmode\u001b[49m\u001b[43m)\u001b[49m\n\u001b[1;32m    308\u001b[0m         \u001b[38;5;28;01mif\u001b[39;00m \u001b[38;5;28mself\u001b[39m\u001b[38;5;241m.\u001b[39mcompression:\n\u001b[1;32m    309\u001b[0m             compress \u001b[38;5;241m=\u001b[39m compr[\u001b[38;5;28mself\u001b[39m\u001b[38;5;241m.\u001b[39mcompression]\n",
      "\u001b[0;31mFileNotFoundError\u001b[0m: [Errno 2] No such file or directory: '/app/lightning_logs/version_0/checkpoints/epoch=0-step=100.ckpt'"
     ]
    }
   ],
   "source": [
    "# load checkpoint\n",
    "checkpoint = \"./lightning_logs/version_0/checkpoints/epoch=0-step=100.ckpt\"\n",
    "autoencoder = LitAutoEncoder.load_from_checkpoint(\n",
    "    checkpoint, encoder=encoder, decoder=decoder\n",
    ")\n",
    "\n",
    "# choose your trained nn.Module\n",
    "encoder = autoencoder.encoder\n",
    "encoder.eval()\n",
    "\n",
    "# embed 4 fake images!\n",
    "fake_image_batch = torch.rand(4, 28 * 28, device=autoencoder.device)\n",
    "embeddings = encoder(fake_image_batch)\n",
    "print(\"⚡\" * 20, \"\\nPredictions (4 image embeddings):\\n\", embeddings, \"\\n\", \"⚡\" * 20)"
   ]
  },
  {
   "cell_type": "code",
   "execution_count": null,
   "metadata": {},
   "outputs": [],
   "source": []
  },
  {
   "cell_type": "code",
   "execution_count": null,
   "metadata": {},
   "outputs": [],
   "source": []
  },
  {
   "cell_type": "code",
   "execution_count": null,
   "metadata": {},
   "outputs": [],
   "source": []
  }
 ],
 "metadata": {
  "kernelspec": {
   "display_name": "Python 3 (ipykernel)",
   "language": "python",
   "name": "python3"
  },
  "language_info": {
   "codemirror_mode": {
    "name": "ipython",
    "version": 3
   },
   "file_extension": ".py",
   "mimetype": "text/x-python",
   "name": "python",
   "nbconvert_exporter": "python",
   "pygments_lexer": "ipython3",
   "version": "3.10.12"
  }
 },
 "nbformat": 4,
 "nbformat_minor": 2
}
